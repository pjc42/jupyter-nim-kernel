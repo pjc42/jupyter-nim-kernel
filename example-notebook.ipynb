{
 "cells": [
  {
   "cell_type": "markdown",
   "metadata": {},
   "source": [
    "Nim examples\n",
    "============"
   ]
  },
  {
   "cell_type": "code",
   "execution_count": 1,
   "metadata": {
    "collapsed": false
   },
   "outputs": [
    {
     "name": "stderr",
     "output_type": "stream",
     "text": [
      "Hint: nimiucta20z [Processing]\r",
      "\r\n"
     ]
    },
    {
     "name": "stdout",
     "output_type": "stream",
     "text": [
      "hello world!\r\n"
     ]
    }
   ],
   "source": [
    "echo \"hello world!\""
   ]
  },
  {
   "cell_type": "markdown",
   "metadata": {},
   "source": [
    "Import\n",
    "------------\n",
    "If the host system as the correct package installed, you can use `import` like normal"
   ]
  },
  {
   "cell_type": "code",
   "execution_count": 2,
   "metadata": {
    "collapsed": false
   },
   "outputs": [
    {
     "name": "stderr",
     "output_type": "stream",
     "text": [
      "Hint: nim85jgwcq2 [Processing]\r",
      "\r\n"
     ]
    },
    {
     "name": "stdout",
     "output_type": "stream",
     "text": [
      "25.0\r\n"
     ]
    }
   ],
   "source": [
    "import math\n",
    "var x = 5.0\n",
    "echo x.pow(2.0)"
   ]
  },
  {
   "cell_type": "code",
   "execution_count": 3,
   "metadata": {
    "collapsed": false
   },
   "outputs": [
    {
     "name": "stderr",
     "output_type": "stream",
     "text": [
      "Hint: nim1virdnex [Processing]\r",
      "\r\n"
     ]
    },
    {
     "name": "stdout",
     "output_type": "stream",
     "text": [
      "@[(a: h, b: !), (a: e, b: k), (a: l, b: o), (a: l, b: o), (a: o, b: b), (a:  , b: e), (a: n, b: t), (a: o, b: o), (a: t, b: n), (a: e, b:  ), (a: b, b: o), (a: o, b: l), (a: o, b: l), (a: k, b: e), (a: !, b: h)]\r\n"
     ]
    }
   ],
   "source": [
    "import sequtils\n",
    "var s : seq[char] = toSeq(\"hello notebook!\".items)\n",
    "var z : seq[char] = toSeq(\"!koobeton olleh\".items)\n",
    "echo zip(s,z)"
   ]
  },
  {
   "cell_type": "markdown",
   "metadata": {},
   "source": [
    "## Importing local files\n",
    "To import local `.nim` files, it is currently necessary to fully qualify\n",
    "their path.  \n",
    "Suppose we have a file `localimp.nim` that defines a `proc localimport` ( remember the `*` to export )"
   ]
  },
  {
   "cell_type": "code",
   "execution_count": 4,
   "metadata": {
    "collapsed": false
   },
   "outputs": [
    {
     "name": "stderr",
     "output_type": "stream",
     "text": [
      "Hint: nim1abekcl8 [Processing]\n",
      "nim1abekcl8.nim(1, 8) Error: cannot open 'localimp'\n",
      "[Nim kernel] nimc exited with code 1, the executable will not be executed"
     ]
    }
   ],
   "source": [
    "import localimp"
   ]
  },
  {
   "cell_type": "markdown",
   "metadata": {},
   "source": [
    "The code above does not work ( currently ) because this kernel executes the code in a temporary directory, so relative paths are skewed.  \n",
    "( And it looks like the kernel doesn't have access to the directory in which the notebook resides )  \n",
    "We can still use absolute paths to import our files:"
   ]
  },
  {
   "cell_type": "code",
   "execution_count": 5,
   "metadata": {
    "collapsed": false
   },
   "outputs": [
    {
     "name": "stderr",
     "output_type": "stream",
     "text": [
      "Hint: nimtutcxzp0 [Processing]\r",
      "\r\n"
     ]
    }
   ],
   "source": [
    "#[ use something like this\n",
    "import c:\\\\absolut\\\\path\\\\module.nim\n",
    "import /absolut/path/module.nim\n",
    "]#"
   ]
  },
  {
   "cell_type": "markdown",
   "metadata": {},
   "source": [
    "## How to show the tempfile name"
   ]
  },
  {
   "cell_type": "code",
   "execution_count": 6,
   "metadata": {
    "collapsed": false
   },
   "outputs": [
    {
     "name": "stderr",
     "output_type": "stream",
     "text": [
      "Hint: nimo015zhxm [Processing]\r",
      "\r\n"
     ]
    },
    {
     "name": "stdout",
     "output_type": "stream",
     "text": [
      "Module tempfile: 'nimo015zhxm.nim'\r\n"
     ]
    }
   ],
   "source": [
    "# show tempfile name for this cell which happens to be the module name and therefor has a limited charset\n",
    "\n",
    "template FILE: string = instantiationInfo().filename\n",
    "\n",
    "echo \"Module tempfile: '\" & FILE() & \"'\""
   ]
  },
  {
   "cell_type": "markdown",
   "metadata": {},
   "source": [
    "## Loading blocks\n",
    "\n",
    "To the left of a block, you may have noticed a number: In[number].  \n",
    "That number is the execution id of the block.  \n",
    "With the magic `#>loadblock num`, you can include other blocks.\n"
   ]
  },
  {
   "cell_type": "code",
   "execution_count": 8,
   "metadata": {
    "collapsed": false
   },
   "outputs": [
    {
     "name": "stderr",
     "output_type": "stream",
     "text": [
      "Hint: nims77c3jhw [Processing]\n",
      "nims77c3jhw.nim(1, 6) Hint: 'nims77c3jhw.isMoreThan(x: int, val: int)' is declared but not used [XDeclaredButNotUsed]\n"
     ]
    }
   ],
   "source": [
    "proc isMoreThan(x:int,val:int):bool = \n",
    "    if(x>val): result = true"
   ]
  },
  {
   "cell_type": "code",
   "execution_count": 9,
   "metadata": {
    "collapsed": false
   },
   "outputs": [
    {
     "name": "stderr",
     "output_type": "stream",
     "text": [
      "Hint: nim38yx0dh6 [Processing]\n",
      "nim38yx0dh6.nim(6, 7) Error: attempting to call undeclared routine: 'isMoreThan'\n",
      "[Nim kernel] nimc exited with code 1, the executable will not be executed"
     ]
    }
   ],
   "source": [
    "# This is block 8, we want to include block 7\n",
    "#>loadblock 8\n",
    "\n",
    "echo 6.isMoreThan(8)"
   ]
  },
  {
   "cell_type": "markdown",
   "metadata": {},
   "source": [
    "## Passing flags to Nim compiler"
   ]
  },
  {
   "cell_type": "markdown",
   "metadata": {},
   "source": [
    "You can pass flag to nim by using the `#>passflag` magic.  \n",
    "Some examples:\n",
    "\n",
    "### Setting verbosity level:"
   ]
  },
  {
   "cell_type": "code",
   "execution_count": null,
   "metadata": {
    "collapsed": true
   },
   "outputs": [],
   "source": [
    "#>passflag --verbosity:3"
   ]
  },
  {
   "cell_type": "markdown",
   "metadata": {},
   "source": [
    "### Some define"
   ]
  },
  {
   "cell_type": "code",
   "execution_count": 2,
   "metadata": {
    "collapsed": false
   },
   "outputs": [
    {
     "name": "stderr",
     "output_type": "stream",
     "text": [
      "Hint: nimsl7z4q34 [Processing]\r",
      "\r\n"
     ]
    },
    {
     "name": "stdout",
     "output_type": "stream",
     "text": [
      "A flag is defined\r\n"
     ]
    }
   ],
   "source": [
    "#>passflag --d:aflag\n",
    "\n",
    "when defined(aflag):\n",
    "    echo \"A flag is defined\""
   ]
  },
  {
   "cell_type": "markdown",
   "metadata": {},
   "source": [
    "## Simple procs"
   ]
  },
  {
   "cell_type": "code",
   "execution_count": null,
   "metadata": {
    "collapsed": false
   },
   "outputs": [],
   "source": [
    "proc square(x:int):int =\n",
    "    result = x*x\n",
    "\n",
    "echo square(5)"
   ]
  },
  {
   "cell_type": "markdown",
   "metadata": {},
   "source": [
    "## Unicode identifiers"
   ]
  },
  {
   "cell_type": "code",
   "execution_count": null,
   "metadata": {
    "collapsed": false
   },
   "outputs": [],
   "source": [
    "proc `×` (a,b:int):int = \n",
    "    result = a*b\n",
    "echo ×(32, 12)"
   ]
  },
  {
   "cell_type": "markdown",
   "metadata": {},
   "source": [
    "## Json parsing"
   ]
  },
  {
   "cell_type": "code",
   "execution_count": null,
   "metadata": {
    "collapsed": false
   },
   "outputs": [],
   "source": [
    "import json\n",
    " \n",
    "var data = parseJson(\"\"\"{ \"foo\": 1, \"bar\": [10, \"apples\"] }\"\"\")\n",
    "echo data[\"foo\"]\n",
    "echo data[\"bar\"]\n",
    " \n",
    "var js = %[%{\"name\": %\"John\", \"age\": %30}, %{\"name\": %\"Susan\", \"age\": %31}]\n",
    "echo js"
   ]
  },
  {
   "cell_type": "markdown",
   "metadata": {},
   "source": [
    "## Every blocks  is separate\n",
    "For now, every block is considered a separate `.nim` file.\n",
    "As an example, we can't access `data` from the block `Json parsing`"
   ]
  },
  {
   "cell_type": "code",
   "execution_count": null,
   "metadata": {
    "collapsed": false
   },
   "outputs": [],
   "source": [
    "echo data"
   ]
  },
  {
   "cell_type": "markdown",
   "metadata": {},
   "source": [
    "See? We got `undeclared identifier: 'data'`"
   ]
  },
  {
   "cell_type": "code",
   "execution_count": null,
   "metadata": {
    "collapsed": false
   },
   "outputs": [],
   "source": [
    "#>loadblock 11\n",
    "echo data"
   ]
  },
  {
   "cell_type": "code",
   "execution_count": null,
   "metadata": {
    "collapsed": true
   },
   "outputs": [],
   "source": []
  }
 ],
 "metadata": {
  "kernelspec": {
   "display_name": "Nim",
   "language": "nim",
   "name": "nim_spec"
  },
  "language_info": {
   "file_extension": "nim",
   "mimetype": "text/plain",
   "name": "nim"
  }
 },
 "nbformat": 4,
 "nbformat_minor": 0
}
