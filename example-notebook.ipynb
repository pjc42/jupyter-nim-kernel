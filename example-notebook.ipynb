{
 "cells": [
  {
   "cell_type": "markdown",
   "metadata": {},
   "source": [
    "Nim examples and notes on this kernel\n",
    "============"
   ]
  },
  {
   "cell_type": "code",
   "execution_count": 1,
   "metadata": {
    "collapsed": false
   },
   "outputs": [
    {
     "name": "stderr",
     "output_type": "stream",
     "text": [
      "Hint: nimbw7c13o5 [Processing]\r",
      "\r\n"
     ]
    },
    {
     "name": "stdout",
     "output_type": "stream",
     "text": [
      "hello world!\r\n"
     ]
    }
   ],
   "source": [
    "echo \"hello world!\""
   ]
  },
  {
   "cell_type": "markdown",
   "metadata": {},
   "source": [
    "Import\n",
    "------------\n",
    "If the host system as the correct package installed, you can use `import` like normal"
   ]
  },
  {
   "cell_type": "code",
   "execution_count": 2,
   "metadata": {
    "collapsed": false
   },
   "outputs": [
    {
     "name": "stderr",
     "output_type": "stream",
     "text": [
      "Hint: nimyybkufsw [Processing]\r",
      "\r\n"
     ]
    },
    {
     "name": "stdout",
     "output_type": "stream",
     "text": [
      "25.0\r\n"
     ]
    }
   ],
   "source": [
    "import math\n",
    "var x = 5.0\n",
    "echo x.pow(2.0)"
   ]
  },
  {
   "cell_type": "code",
   "execution_count": 3,
   "metadata": {
    "collapsed": false
   },
   "outputs": [
    {
     "name": "stderr",
     "output_type": "stream",
     "text": [
      "Hint: nimfu1fpuh2 [Processing]\r",
      "\r\n"
     ]
    },
    {
     "name": "stdout",
     "output_type": "stream",
     "text": [
      "@[(a: h, b: !), (a: e, b: k), (a: l, b: o), (a: l, b: o), (a: o, b: b), (a:  , b: e), (a: n, b: t), (a: o, b: o), (a: t, b: n), (a: e, b:  ), (a: b, b: o), (a: o, b: l), (a: o, b: l), (a: k, b: e), (a: !, b: h)]\r\n"
     ]
    }
   ],
   "source": [
    "import sequtils\n",
    "var s : seq[char] = toSeq(\"hello notebook!\".items)\n",
    "var z : seq[char] = toSeq(\"!koobeton olleh\".items)\n",
    "echo zip(s,z)"
   ]
  },
  {
   "cell_type": "markdown",
   "metadata": {},
   "source": [
    "## Importing local files\n",
    "To import local `.nim` files, it is currently necessary to fully qualify\n",
    "their path.  \n",
    "Suppose we have a file `localimp.nim` that defines a `proc localimport` ( remember the `*` to export )"
   ]
  },
  {
   "cell_type": "code",
   "execution_count": 4,
   "metadata": {
    "collapsed": false
   },
   "outputs": [
    {
     "name": "stderr",
     "output_type": "stream",
     "text": [
      "Hint: nimsrpv4e36 [Processing]\n",
      "nimsrpv4e36.nim(1, 8) Error: cannot open 'localimp'\n",
      "[Nim kernel] nimc exited with code 1, the executable will not be executed"
     ]
    }
   ],
   "source": [
    "import localimp"
   ]
  },
  {
   "cell_type": "markdown",
   "metadata": {},
   "source": [
    "The code above does not work ( currently ) because this kernel executes the code in a temporary directory, so relative paths are skewed.  \n",
    "( And it looks like the kernel doesn't have access to the directory in which the notebook resides )  \n",
    "We can still use absolute paths to import our files:"
   ]
  },
  {
   "cell_type": "code",
   "execution_count": 5,
   "metadata": {
    "collapsed": false
   },
   "outputs": [
    {
     "name": "stderr",
     "output_type": "stream",
     "text": [
      "Hint: nim8q39y734 [Processing]\r",
      "\r\n"
     ]
    }
   ],
   "source": [
    "#[ use something like this\n",
    "import c:\\\\absolute\\\\path\\\\module.nim\n",
    "import /absolut/path/module.nim\n",
    "]#"
   ]
  },
  {
   "cell_type": "markdown",
   "metadata": {},
   "source": [
    "## How to show the tempfile name\n",
    "Show tempfile name for this cell which happens to be the module name and therefor has a limited charset\n"
   ]
  },
  {
   "cell_type": "code",
   "execution_count": 6,
   "metadata": {
    "collapsed": false
   },
   "outputs": [
    {
     "name": "stderr",
     "output_type": "stream",
     "text": [
      "Hint: nim20pgib59 [Processing]\r",
      "\r\n"
     ]
    },
    {
     "name": "stdout",
     "output_type": "stream",
     "text": [
      "Module tempfile: 'nim20pgib59.nim'\r\n"
     ]
    }
   ],
   "source": [
    "template FILE: string = instantiationInfo().filename\n",
    "\n",
    "echo \"Module tempfile: '\" & FILE() & \"'\""
   ]
  },
  {
   "cell_type": "markdown",
   "metadata": {},
   "source": [
    "## Every block  is separate\n",
    "For now, every block is considered a separate `.nim` file.\n",
    "As an example, we can't access `x` from block 2"
   ]
  },
  {
   "cell_type": "code",
   "execution_count": 7,
   "metadata": {
    "collapsed": false
   },
   "outputs": [
    {
     "name": "stderr",
     "output_type": "stream",
     "text": [
      "Hint: nimtkgm69yn [Processing]\n",
      "nimtkgm69yn.nim(1, 6) Error: undeclared identifier: 'x'\n",
      "[Nim kernel] nimc exited with code 1, the executable will not be executed"
     ]
    }
   ],
   "source": [
    "echo x"
   ]
  },
  {
   "cell_type": "markdown",
   "metadata": {},
   "source": [
    "See? We got `undeclared identifier: 'data'`"
   ]
  },
  {
   "cell_type": "markdown",
   "metadata": {},
   "source": [
    "## Loading blocks\n",
    "\n",
    "As a workaround to the separate contexts, you can include other blocks  \n",
    "with the magic `#>loadblock num`, where `num` is the execution id of the block to load, which    \n",
    "is to the left of a block, eg: `In[num]`."
   ]
  },
  {
   "cell_type": "code",
   "execution_count": 8,
   "metadata": {
    "collapsed": false
   },
   "outputs": [
    {
     "name": "stderr",
     "output_type": "stream",
     "text": [
      "Hint: nim6ashbye2 [Processing]\r",
      "\r\n"
     ]
    },
    {
     "name": "stdout",
     "output_type": "stream",
     "text": [
      "5.0\r\n"
     ]
    }
   ],
   "source": [
    "#>loadblock 2\n",
    "echo x"
   ]
  },
  {
   "cell_type": "markdown",
   "metadata": {},
   "source": [
    "Another example:"
   ]
  },
  {
   "cell_type": "code",
   "execution_count": 9,
   "metadata": {
    "collapsed": false
   },
   "outputs": [
    {
     "name": "stderr",
     "output_type": "stream",
     "text": [
      "Hint: nimpwfawi4r [Processing]\n",
      "nimpwfawi4r.nim(1, 6) Hint: 'nimpwfawi4r.isMoreThan(x: int, val: int)' is declared but not used [XDeclaredButNotUsed]\n"
     ]
    }
   ],
   "source": [
    "proc isMoreThan(x:int,val:int):bool = \n",
    "    if(x>val): result = true"
   ]
  },
  {
   "cell_type": "code",
   "execution_count": 10,
   "metadata": {
    "collapsed": false
   },
   "outputs": [
    {
     "name": "stderr",
     "output_type": "stream",
     "text": [
      "Hint: nimgrxpeqnd [Processing]\r",
      "\r\n"
     ]
    },
    {
     "name": "stdout",
     "output_type": "stream",
     "text": [
      "false\r\n"
     ]
    }
   ],
   "source": [
    "# This is block 10, we want to include block 9\n",
    "#>loadblock 9\n",
    "\n",
    "echo 6.isMoreThan(8)"
   ]
  },
  {
   "cell_type": "markdown",
   "metadata": {},
   "source": [
    "## Passing flags to Nim compiler"
   ]
  },
  {
   "cell_type": "markdown",
   "metadata": {},
   "source": [
    "You can pass flag to nim by using the `#>passflag` magic.  \n",
    "Some examples:\n",
    "\n",
    "### Setting verbosity level"
   ]
  },
  {
   "cell_type": "code",
   "execution_count": null,
   "metadata": {
    "collapsed": false
   },
   "outputs": [],
   "source": [
    "#>passflag --verbosity:3"
   ]
  },
  {
   "cell_type": "markdown",
   "metadata": {},
   "source": [
    "### Define a flag"
   ]
  },
  {
   "cell_type": "code",
   "execution_count": 12,
   "metadata": {
    "collapsed": false
   },
   "outputs": [
    {
     "name": "stderr",
     "output_type": "stream",
     "text": [
      "Hint: nimkfk6r27i [Processing]\r",
      "\r\n"
     ]
    },
    {
     "name": "stdout",
     "output_type": "stream",
     "text": [
      "A flag is defined\r\n"
     ]
    }
   ],
   "source": [
    "#>passflag --d:aflag\n",
    "\n",
    "when defined(aflag):\n",
    "    echo \"A flag is defined\""
   ]
  },
  {
   "cell_type": "markdown",
   "metadata": {},
   "source": [
    "## Simple procs"
   ]
  },
  {
   "cell_type": "code",
   "execution_count": 13,
   "metadata": {
    "collapsed": false
   },
   "outputs": [
    {
     "name": "stderr",
     "output_type": "stream",
     "text": [
      "Hint: nimmx33e9cs [Processing]\r",
      "\r\n"
     ]
    },
    {
     "name": "stdout",
     "output_type": "stream",
     "text": [
      "25\r\n"
     ]
    }
   ],
   "source": [
    "proc square(x:int):int =\n",
    "    result = x*x\n",
    "\n",
    "echo square(5)"
   ]
  },
  {
   "cell_type": "markdown",
   "metadata": {},
   "source": [
    "## Unicode identifiers"
   ]
  },
  {
   "cell_type": "code",
   "execution_count": 14,
   "metadata": {
    "collapsed": false
   },
   "outputs": [
    {
     "name": "stderr",
     "output_type": "stream",
     "text": [
      "Hint: nim30nzv2gb [Processing]\r",
      "\r\n"
     ]
    },
    {
     "name": "stdout",
     "output_type": "stream",
     "text": [
      "384\r\n"
     ]
    }
   ],
   "source": [
    "proc `×` (a,b:int):int = \n",
    "    result = a*b\n",
    "echo ×(32, 12)"
   ]
  },
  {
   "cell_type": "markdown",
   "metadata": {},
   "source": [
    "## Json parsing"
   ]
  },
  {
   "cell_type": "code",
   "execution_count": 15,
   "metadata": {
    "collapsed": false
   },
   "outputs": [
    {
     "name": "stderr",
     "output_type": "stream",
     "text": [
      "Hint: nimgsbhn1om [Processing]\n",
      "Hint: hashes [Processing]\n",
      "Hint: strutils [Processing]\n",
      "Hint: parseutils [Processing]\n",
      "Hint: math [Processing]\n",
      "Hint: etcpriv [Processing]\n",
      "Hint: tables [Processing]\n",
      "Hint: lexbase [Processing]\n",
      "Hint: streams [Processing]\n",
      "Hint: unicode [Processing]\n",
      "Hint: macros [Processing]\n"
     ]
    },
    {
     "name": "stdout",
     "output_type": "stream",
     "text": [
      "1\r\n",
      "[10,\"apples\"]\r\n",
      "[{\"name\":\"John\",\"age\":30},{\"name\":\"Susan\",\"age\":31}]\r\n"
     ]
    }
   ],
   "source": [
    "import json\n",
    " \n",
    "var data = parseJson(\"\"\"{ \"foo\": 1, \"bar\": [10, \"apples\"] }\"\"\")\n",
    "echo data[\"foo\"]\n",
    "echo data[\"bar\"]\n",
    " \n",
    "var js = %[%{\"name\": %\"John\", \"age\": %30}, %{\"name\": %\"Susan\", \"age\": %31}]\n",
    "echo js"
   ]
  },
  {
   "cell_type": "code",
   "execution_count": null,
   "metadata": {
    "collapsed": true
   },
   "outputs": [],
   "source": []
  }
 ],
 "metadata": {
  "kernelspec": {
   "display_name": "Nim",
   "language": "nim",
   "name": "nim_spec"
  },
  "language_info": {
   "file_extension": ".nim",
   "mimetype": "text/plain",
   "name": "nim"
  }
 },
 "nbformat": 4,
 "nbformat_minor": 0
}
