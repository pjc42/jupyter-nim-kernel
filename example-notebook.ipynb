{
 "cells": [
  {
   "cell_type": "markdown",
   "metadata": {},
   "source": [
    "Nim examples and notes on this kernel\n",
    "============"
   ]
  },
  {
   "cell_type": "code",
   "execution_count": 1,
   "metadata": {
    "collapsed": false
   },
   "outputs": [
    {
     "name": "stderr",
     "output_type": "stream",
     "text": [
      "Hint: nimqolwkwcx [Processing]\r",
      "\r\n"
     ]
    },
    {
     "name": "stdout",
     "output_type": "stream",
     "text": [
      "hello world!\r\n"
     ]
    }
   ],
   "source": [
    "echo \"hello world!\""
   ]
  },
  {
   "cell_type": "markdown",
   "metadata": {},
   "source": [
    "Import\n",
    "------------\n",
    "If the host system as the correct package installed, you can use `import` like normal"
   ]
  },
  {
   "cell_type": "code",
   "execution_count": 2,
   "metadata": {
    "collapsed": false
   },
   "outputs": [
    {
     "name": "stderr",
     "output_type": "stream",
     "text": [
      "Hint: nimdx0kvvsi [Processing]\r",
      "\r\n"
     ]
    },
    {
     "name": "stdout",
     "output_type": "stream",
     "text": [
      "25.0\r\n"
     ]
    }
   ],
   "source": [
    "import math\n",
    "var x = 5.0\n",
    "echo x.pow(2.0)"
   ]
  },
  {
   "cell_type": "code",
   "execution_count": 3,
   "metadata": {
    "collapsed": false
   },
   "outputs": [
    {
     "name": "stderr",
     "output_type": "stream",
     "text": [
      "Hint: nimpfbi6f3k [Processing]\r",
      "\r\n"
     ]
    },
    {
     "name": "stdout",
     "output_type": "stream",
     "text": [
      "@[(a: h, b: !), (a: e, b: k), (a: l, b: o), (a: l, b: o), (a: o, b: b), (a:  , b: e), (a: n, b: t), (a: o, b: o), (a: t, b: n), (a: e, b:  ), (a: b, b: o), (a: o, b: l), (a: o, b: l), (a: k, b: e), (a: !, b: h)]\r\n"
     ]
    }
   ],
   "source": [
    "import sequtils\n",
    "var s : seq[char] = toSeq(\"hello notebook!\".items)\n",
    "var z : seq[char] = toSeq(\"!koobeton olleh\".items)\n",
    "echo zip(s,z)"
   ]
  },
  {
   "cell_type": "markdown",
   "metadata": {},
   "source": [
    "## Importing local files\n",
    "To import local `.nim` files, it is currently necessary to fully qualify\n",
    "their path.  \n",
    "Suppose we have a file `localimp.nim` that defines a `proc localimport` ( remember the `*` to export )"
   ]
  },
  {
   "cell_type": "code",
   "execution_count": 4,
   "metadata": {
    "collapsed": false
   },
   "outputs": [
    {
     "name": "stderr",
     "output_type": "stream",
     "text": [
      "Hint: nimj8a5f6gd [Processing]\n",
      "nimj8a5f6gd.nim(1, 8) Error: cannot open 'localimp'\n",
      "[Nim kernel] nimc exited with code 1, the executable will not be executed"
     ]
    }
   ],
   "source": [
    "import localimp"
   ]
  },
  {
   "cell_type": "markdown",
   "metadata": {},
   "source": [
    "The code above does not work ( currently ) because this kernel executes the code in a temporary directory, so relative paths are skewed.  \n",
    "( And it looks like the kernel doesn't have access to the directory in which the notebook resides )  \n",
    "We can still use absolute paths to import our files:"
   ]
  },
  {
   "cell_type": "code",
   "execution_count": 5,
   "metadata": {
    "collapsed": false
   },
   "outputs": [
    {
     "name": "stderr",
     "output_type": "stream",
     "text": [
      "Hint: nim5fxg7dsa [Processing]\r",
      "\r\n"
     ]
    }
   ],
   "source": [
    "#[ use something like this\n",
    "import c:\\\\absolute\\\\path\\\\module.nim\n",
    "import /absolut/path/module.nim\n",
    "]#"
   ]
  },
  {
   "cell_type": "markdown",
   "metadata": {},
   "source": [
    "## How to show the tempfile name\n",
    "Show tempfile name for this cell which happens to be the module name and therefor has a limited charset\n"
   ]
  },
  {
   "cell_type": "code",
   "execution_count": 6,
   "metadata": {
    "collapsed": false
   },
   "outputs": [
    {
     "name": "stderr",
     "output_type": "stream",
     "text": [
      "Hint: nimgjn9limv [Processing]\r",
      "\r\n"
     ]
    },
    {
     "name": "stdout",
     "output_type": "stream",
     "text": [
      "Module tempfile: 'nimgjn9limv.nim'\r\n"
     ]
    }
   ],
   "source": [
    "template FILE: string = instantiationInfo().filename\n",
    "\n",
    "echo \"Module tempfile: '\" & FILE() & \"'\""
   ]
  },
  {
   "cell_type": "markdown",
   "metadata": {},
   "source": [
    "## Every blocks  is separate\n",
    "For now, every block is considered a separate `.nim` file.\n",
    "As an example, we can't access `data` from the block `Json parsing`"
   ]
  },
  {
   "cell_type": "code",
   "execution_count": 14,
   "metadata": {
    "collapsed": false
   },
   "outputs": [
    {
     "name": "stderr",
     "output_type": "stream",
     "text": [
      "Hint: nim15e5i0kb [Processing]\n",
      "[Nim kernel] nimc exited with code 1, the executable will not be executed"
     ]
    }
   ],
   "source": [
    "echo data"
   ]
  },
  {
   "cell_type": "markdown",
   "metadata": {},
   "source": [
    "See? We got `undeclared identifier: 'data'`"
   ]
  },
  {
   "cell_type": "code",
   "execution_count": 15,
   "metadata": {
    "collapsed": false
   },
   "outputs": [
    {
     "name": "stderr",
     "output_type": "stream",
     "text": [
      "Hint: nim1qbsm9cz [Processing]\n",
      "nim1qbsm9cz.nim(6, 6) Error: undeclared identifier: 'data'\n",
      "[Nim kernel] nimc exited with code 1, the executable will not be executed"
     ]
    }
   ],
   "source": [
    "#>loadblock 11\n",
    "echo data"
   ]
  },
  {
   "cell_type": "markdown",
   "metadata": {},
   "source": [
    "## Loading blocks\n",
    "\n",
    "As a workaround to the separate contexts, you can include other blocks  \n",
    "with the magic `#>loadblock num`, where `num` is the execution id of the block to load, which    \n",
    "is to the left of a block, eg: `In[num]`."
   ]
  },
  {
   "cell_type": "code",
   "execution_count": 7,
   "metadata": {
    "collapsed": false
   },
   "outputs": [
    {
     "name": "stderr",
     "output_type": "stream",
     "text": [
      "Hint: nim1u2op6k3 [Processing]\n",
      "nim1u2op6k3.nim(1, 6) Hint: 'nim1u2op6k3.isMoreThan(x: int, val: int)' is declared but not used [XDeclaredButNotUsed]\n"
     ]
    }
   ],
   "source": [
    "proc isMoreThan(x:int,val:int):bool = \n",
    "    if(x>val): result = true"
   ]
  },
  {
   "cell_type": "code",
   "execution_count": 16,
   "metadata": {
    "collapsed": false
   },
   "outputs": [
    {
     "name": "stderr",
     "output_type": "stream",
     "text": [
      "Hint: nimt8ztyzok [Processing]\r",
      "\r\n"
     ]
    },
    {
     "name": "stdout",
     "output_type": "stream",
     "text": [
      "false\r\n"
     ]
    }
   ],
   "source": [
    "# This is block 8, we want to include block 7\n",
    "#>loadblock 7\n",
    "\n",
    "echo 6.isMoreThan(8)"
   ]
  },
  {
   "cell_type": "markdown",
   "metadata": {},
   "source": [
    "## Passing flags to Nim compiler"
   ]
  },
  {
   "cell_type": "markdown",
   "metadata": {},
   "source": [
    "You can pass flag to nim by using the `#>passflag` magic.  \n",
    "Some examples:\n",
    "\n",
    "### Setting verbosity level:"
   ]
  },
  {
   "cell_type": "code",
   "execution_count": 9,
   "metadata": {
    "collapsed": false
   },
   "outputs": [
    {
     "name": "stderr",
     "output_type": "stream",
     "text": [
      "c:\\dev\\nim-0.14.2\\config\\nim.cfg(46, 3) Hint: added path: 'C:\\Users\\silvio\\.nimble\\pkgs\\uuid-0.1.0' [Path]\n",
      "c:\\dev\\nim-0.14.2\\config\\nim.cfg(46, 3) Hint: added path: 'C:\\Users\\silvio\\.nimble\\pkgs\\zmq-0.2.1' [Path]\n",
      "c:\\dev\\nim-0.14.2\\config\\nim.cfg(46, 3) Hint: added path: 'C:\\Users\\silvio\\.nimble\\pkgs\\opengl-1.0.1' [Path]\n",
      "c:\\dev\\nim-0.14.2\\config\\nim.cfg(46, 3) Hint: added path: 'C:\\Users\\silvio\\.nimble\\pkgs\\sdl2_nim-0.95' [Path]\n",
      "c:\\dev\\nim-0.14.2\\config\\nim.cfg(46, 3) Hint: added path: 'C:\\Users\\silvio\\.nimble\\pkgs\\compiler-0.14.2' [Path]\n",
      "c:\\dev\\nim-0.14.2\\config\\nim.cfg(46, 3) Hint: added path: 'C:\\Users\\silvio\\.nimble\\pkgs\\linalg-0.4.3' [Path]\n",
      "c:\\dev\\nim-0.14.2\\config\\nim.cfg(46, 3) Hint: added path: 'C:\\Users\\silvio\\.nimble\\pkgs\\x11-1.0' [Path]\n",
      "c:\\dev\\nim-0.14.2\\config\\nim.cfg(46, 3) Hint: added path: 'C:\\Users\\silvio\\.nimble\\pkgs\\Gnuplot.nim-0.6' [Path]\n",
      "c:\\dev\\nim-0.14.2\\config\\nim.cfg(46, 3) Hint: added path: 'C:\\Users\\silvio\\.nimble\\pkgs\\nuuid-0.1.0' [Path]\n",
      "c:\\dev\\nim-0.14.2\\config\\nim.cfg(46, 3) Hint: added path: 'C:\\Users\\silvio\\.nimble\\pkgs\\sdl2-1.1' [Path]\n",
      "c:\\dev\\nim-0.14.2\\config\\nim.cfg(46, 3) Hint: added path: 'C:\\Users\\silvio\\.nimble\\pkgs\\webgl-0.1.0' [Path]\n",
      "c:\\dev\\nim-0.14.2\\config\\nim.cfg(46, 3) Hint: added path: 'C:\\Users\\silvio\\.nimble\\pkgs\\nimblas-0.1.1' [Path]\n",
      "c:\\dev\\nim-0.14.2\\config\\nim.cfg(46, 3) Hint: added path: 'C:\\Users\\silvio\\.nimble\\pkgs\\glfw-0.2.1' [Path]\n",
      "c:\\dev\\nim-0.14.2\\config\\nim.cfg(46, 3) Hint: added path: 'C:\\Users\\silvio\\.nimble\\pkgs\\hmac-0.1.1' [Path]\n",
      "c:\\dev\\nim-0.14.2\\config\\nim.cfg(46, 3) Hint: added path: 'C:\\Users\\silvio\\.nimble\\pkgs\\nimSHA2-0.1.1' [Path]\n",
      "c:\\dev\\nim-0.14.2\\config\\nim.cfg(46, 3) Hint: added path: 'C:\\Users\\silvio\\.nimble\\pkgs\\random-0.5.3' [Path]\n",
      "c:\\dev\\nim-0.14.2\\config\\nim.cfg(46, 3) Hint: added path: 'C:\\Users\\silvio\\.nimble\\pkgs\\' [Path]\n",
      "Hint: used config file 'C:\\Dev\\Nim-0.14.2\\config\\nim.cfg' [Conf]\n",
      "c:\\dev\\nim-0.14.2\\lib\\system.nim(10, 1) Hint: 2 [Processing]\n",
      "c:\\dev\\nim-0.14.2\\lib\\system.nim(25, 3) Hint: 2 [Processing]\n",
      "c:\\dev\\nim-0.14.2\\lib\\system.nim(43, 3) Hint: 2 [Processing]\n",
      "c:\\dev\\nim-0.14.2\\lib\\system.nim(47, 3) Hint: 2 [Processing]\n",
      "c:\\dev\\nim-0.14.2\\lib\\system.nim(52, 1) Hint: 2 [Processing]\n",
      "c:\\dev\\nim-0.14.2\\lib\\system.nim(56, 1) Hint: 2 [Processing]\n",
      "c:\\dev\\nim-0.14.2\\lib\\system.nim(57, 1) Hint: 2 [Processing]\n",
      "c:\\dev\\nim-0.14.2\\lib\\system.nim(3114, 1) Hint: 103 [Processing]\n",
      "c:\\dev\\nim-0.14.2\\lib\\system.nim(3118, 1) Hint: 103 [Processing]\n",
      "c:\\dev\\nim-0.14.2\\lib\\system.nim(3142, 1) Hint: 103 [Processing]\n",
      "c:\\dev\\nim-0.14.2\\lib\\system.nim(3166, 1) Hint: 103 [Processing]\n",
      "c:\\dev\\nim-0.14.2\\lib\\system.nim(3170, 1) Hint: 103 [Processing]\n",
      "c:\\dev\\nim-0.14.2\\lib\\system.nim(3186, 1) Hint: 103 [Processing]\n",
      "c:\\dev\\nim-0.14.2\\lib\\system.nim(3207, 1) Hint: 121 [Processing]\n",
      "c:\\dev\\nim-0.14.2\\lib\\system.nim(3215, 1) Hint: 121 [Processing]\n",
      "c:\\dev\\nim-0.14.2\\lib\\system.nim(3225, 1) Hint: 121 [Processing]\n",
      "c:\\dev\\nim-0.14.2\\lib\\system.nim(3232, 1) Hint: 121 [Processing]\n",
      "c:\\dev\\nim-0.14.2\\lib\\system.nim(3241, 1) Hint: 121 [Processing]\n",
      "c:\\dev\\nim-0.14.2\\lib\\system.nim(3248, 1) Hint: 121 [Processing]\n",
      "c:\\dev\\nim-0.14.2\\lib\\system.nim(3259, 1) Hint: 121 [Processing]\n",
      "c:\\dev\\nim-0.14.2\\lib\\system.nim(3262, 1) Hint: 121 [Processing]\n",
      "c:\\dev\\nim-0.14.2\\lib\\system.nim(3271, 1) Hint: 121 [Processing]\n",
      "c:\\dev\\nim-0.14.2\\lib\\system.nim(3275, 1) Hint: 121 [Processing]\n",
      "c:\\dev\\nim-0.14.2\\lib\\system.nim(3298, 1) Hint: 121 [Processing]\n",
      "c:\\dev\\nim-0.14.2\\lib\\system.nim(3302, 1) Hint: 121 [Processing]\n",
      "c:\\dev\\nim-0.14.2\\lib\\system.nim(3306, 1) Hint: 121 [Processing]\n",
      "c:\\dev\\nim-0.14.2\\lib\\system.nim(3311, 1) Hint: 121 [Processing]\n",
      "c:\\dev\\nim-0.14.2\\lib\\system.nim(3316, 1) Hint: 121 [Processing]\n",
      "c:\\dev\\nim-0.14.2\\lib\\system.nim(3321, 1) Hint: 121 [Processing]\n",
      "c:\\dev\\nim-0.14.2\\lib\\system.nim(3326, 1) Hint: 121 [Processing]\n",
      "c:\\dev\\nim-0.14.2\\lib\\system.nim(3330, 1) Hint: 121 [Processing]\n",
      "c:\\dev\\nim-0.14.2\\lib\\system.nim(3334, 1) Hint: 121 [Processing]\n",
      "c:\\dev\\nim-0.14.2\\lib\\system.nim(3335, 1) Hint: 121 [Processing]\n",
      "c:\\dev\\nim-0.14.2\\lib\\system.nim(3339, 1) Hint: 121 [Processing]\n",
      "c:\\dev\\nim-0.14.2\\lib\\system.nim(3342, 1) Hint: 121 [Processing]\n",
      "c:\\dev\\nim-0.14.2\\lib\\system.nim(3346, 1) Hint: 121 [Processing]\n",
      "c:\\dev\\nim-0.14.2\\lib\\system.nim(3377, 1) Hint: 121 [Processing]\n",
      "c:\\dev\\nim-0.14.2\\lib\\system.nim(3380, 1) Hint: 121 [Processing]\n",
      "c:\\dev\\nim-0.14.2\\lib\\system.nim(3383, 1) Hint: 122 [Processing]\n",
      "c:\\dev\\nim-0.14.2\\lib\\system.nim(3391, 1) Hint: 122 [Processing]\n",
      "c:\\dev\\nim-0.14.2\\lib\\system.nim(3405, 1) Hint: 122 [Processing]\n",
      "c:\\dev\\nim-0.14.2\\lib\\system.nim(3413, 1) Hint: 122 [Processing]\n",
      "c:\\dev\\nim-0.14.2\\lib\\system.nim(3422, 1) Hint: 122 [Processing]\n",
      "c:\\dev\\nim-0.14.2\\lib\\system.nim(3431, 1) Hint: 122 [Processing]\n",
      "c:\\dev\\nim-0.14.2\\lib\\system.nim(3440, 1) Hint: 122 [Processing]\n",
      "c:\\dev\\nim-0.14.2\\lib\\system.nim(3449, 1) Hint: 122 [Processing]\n",
      "c:\\dev\\nim-0.14.2\\lib\\system.nim(3452, 1) Hint: 122 [Processing]\n",
      "c:\\dev\\nim-0.14.2\\lib\\system.nim(3469, 1) Hint: 122 [Processing]\n",
      "c:\\dev\\nim-0.14.2\\lib\\system.nim(3477, 1) Hint: 122 [Processing]\n",
      "c:\\dev\\nim-0.14.2\\lib\\system.nim(3486, 3) Hint: 122 [Processing]\n",
      "c:\\dev\\nim-0.14.2\\lib\\system.nim(3490, 1) Hint: 122 [Processing]\n",
      "c:\\dev\\nim-0.14.2\\lib\\system.nim(3492, 1) Hint: 122 [Processing]\n",
      "c:\\dev\\nim-0.14.2\\lib\\system.nim(3500, 1) Hint: 122 [Processing]\n",
      "c:\\dev\\nim-0.14.2\\lib\\system.nim(3514, 1) Hint: 128 [Processing]\n",
      "c:\\dev\\nim-0.14.2\\lib\\system.nim(3524, 1) Hint: 128 [Processing]\n",
      "c:\\dev\\nim-0.14.2\\lib\\system.nim(3527, 1) Hint: 128 [Processing]\n",
      "c:\\dev\\nim-0.14.2\\lib\\system.nim(3546, 1) Hint: 128 [Processing]\n",
      "c:\\dev\\nim-0.14.2\\lib\\system.nim(3570, 1) Hint: 128 [Processing]\n",
      "c:\\dev\\nim-0.14.2\\lib\\system.nim(3578, 1) Hint: 138 [Processing]\n",
      "c:\\dev\\nim-0.14.2\\lib\\system.nim(3587, 1) Hint: 138 [Processing]\n",
      "c:\\dev\\nim-0.14.2\\lib\\system.nim(3588, 1) Hint: 138 [Processing]\n",
      "c:\\dev\\nim-0.14.2\\lib\\system.nim(3596, 1) Hint: 138 [Processing]\n",
      "c:\\dev\\nim-0.14.2\\lib\\system.nim(3601, 1) Hint: 138 [Processing]\n",
      "c:\\dev\\nim-0.14.2\\lib\\system.nim(3606, 1) Hint: 138 [Processing]\n",
      "c:\\dev\\nim-0.14.2\\lib\\system.nim(3612, 1) Hint: 138 [Processing]\n",
      "c:\\dev\\nim-0.14.2\\lib\\system.nim(3613, 1) Hint: 138 [Processing]\n",
      "c:\\dev\\nim-0.14.2\\lib\\system.nim(3619, 1) Hint: 138 [Processing]\n",
      "c:\\dev\\nim-0.14.2\\lib\\system.nim(3628, 1) Hint: 138 [Processing]\n",
      "c:\\dev\\nim-0.14.2\\lib\\system.nim(3630, 1) Hint: 138 [Processing]\n",
      "Hint: nimjbp5s4sb [Processing]\n"
     ]
    },
    {
     "name": "stdout",
     "output_type": "stream",
     "text": [
      "gcc.exe -c  -w -fPIC -shared  -IC:\\Dev\\Nim-0.14.2\\lib -o c:\\users\\silvio\\appdata\\local\\temp\\nimcache\\nimjbp5s4sb.o c:\\users\\silvio\\appdata\\local\\temp\\nimcache\\nimjbp5s4sb.c\r\n"
     ]
    },
    {
     "name": "stderr",
     "output_type": "stream",
     "text": [
      "Hint: gcc.exe   -o C:\\Users\\silvio\\AppData\\Local\\Temp\\nimlsvjkb1q.out  c:\\users\\silvio\\appdata\\local\\temp\\nimcache\\stdlib_system.o c:\\users\\silvio\\appdata\\local\\temp\\nimcache\\nimjbp5s4sb.o   [Exec]\r",
      "\r\n"
     ]
    },
    {
     "name": "stdout",
     "output_type": "stream",
     "text": [
      "[GC] total memory: 16257024\r\n",
      "[GC] occupied memory: 15806464\r\n",
      "[GC] stack scans: 707\r\n",
      "[GC] stack cells: 2759\r\n",
      "[GC] cycle collections: 0\r\n",
      "[GC] max threshold: 0\r\n",
      "[GC] zct capacity: 1024\r\n",
      "[GC] max cycle table size: 0\r\n",
      "[GC] max pause time [ms]: 0\r\n",
      "[GC] max stack size: 59232\r\n",
      "\r\n"
     ]
    },
    {
     "name": "stderr",
     "output_type": "stream",
     "text": [
      "Hint: operation successful (10296 lines compiled; 0.370 sec total; 15.504MiB; Debug Build) [SuccessX]\r",
      "\r\n"
     ]
    }
   ],
   "source": [
    "#>passflag --verbosity:3"
   ]
  },
  {
   "cell_type": "markdown",
   "metadata": {},
   "source": [
    "### Define a flag"
   ]
  },
  {
   "cell_type": "code",
   "execution_count": 10,
   "metadata": {
    "collapsed": false
   },
   "outputs": [
    {
     "name": "stderr",
     "output_type": "stream",
     "text": [
      "Hint: nim12evm6fa [Processing]\r",
      "\r\n"
     ]
    },
    {
     "name": "stdout",
     "output_type": "stream",
     "text": [
      "A flag is defined\r\n"
     ]
    }
   ],
   "source": [
    "#>passflag --d:aflag\n",
    "\n",
    "when defined(aflag):\n",
    "    echo \"A flag is defined\""
   ]
  },
  {
   "cell_type": "markdown",
   "metadata": {},
   "source": [
    "## Simple procs"
   ]
  },
  {
   "cell_type": "code",
   "execution_count": 11,
   "metadata": {
    "collapsed": false
   },
   "outputs": [
    {
     "name": "stderr",
     "output_type": "stream",
     "text": [
      "Hint: nimpqfm30an [Processing]\r",
      "\r\n"
     ]
    },
    {
     "name": "stdout",
     "output_type": "stream",
     "text": [
      "25\r\n"
     ]
    }
   ],
   "source": [
    "proc square(x:int):int =\n",
    "    result = x*x\n",
    "\n",
    "echo square(5)"
   ]
  },
  {
   "cell_type": "markdown",
   "metadata": {},
   "source": [
    "## Unicode identifiers"
   ]
  },
  {
   "cell_type": "code",
   "execution_count": 12,
   "metadata": {
    "collapsed": false
   },
   "outputs": [
    {
     "name": "stderr",
     "output_type": "stream",
     "text": [
      "Hint: nimz1k67576 [Processing]\r",
      "\r\n"
     ]
    },
    {
     "name": "stdout",
     "output_type": "stream",
     "text": [
      "384\r\n"
     ]
    }
   ],
   "source": [
    "proc `×` (a,b:int):int = \n",
    "    result = a*b\n",
    "echo ×(32, 12)"
   ]
  },
  {
   "cell_type": "markdown",
   "metadata": {},
   "source": [
    "## Json parsing"
   ]
  },
  {
   "cell_type": "code",
   "execution_count": 13,
   "metadata": {
    "collapsed": false
   },
   "outputs": [
    {
     "name": "stderr",
     "output_type": "stream",
     "text": [
      "Hint: nim7yspguwg [Processing]\n",
      "Hint: hashes [Processing]\n",
      "Hint: strutils [Processing]\n",
      "Hint: parseutils [Processing]\n",
      "Hint: math [Processing]\n",
      "Hint: etcpriv [Processing]\n",
      "Hint: tables [Processing]\n",
      "Hint: lexbase [Processing]\n",
      "Hint: streams [Processing]\n",
      "Hint: unicode [Processing]\n",
      "Hint: macros [Processing]\n"
     ]
    },
    {
     "name": "stdout",
     "output_type": "stream",
     "text": [
      "1\n",
      "[10,\"apples\"]\n",
      "[{\"name\":\"John\",\"age\":30},{\"name\":\"Susan\",\"age\":31}]\n"
     ]
    }
   ],
   "source": [
    "import json\n",
    " \n",
    "var data = parseJson(\"\"\"{ \"foo\": 1, \"bar\": [10, \"apples\"] }\"\"\")\n",
    "echo data[\"foo\"]\n",
    "echo data[\"bar\"]\n",
    " \n",
    "var js = %[%{\"name\": %\"John\", \"age\": %30}, %{\"name\": %\"Susan\", \"age\": %31}]\n",
    "echo js"
   ]
  },
  {
   "cell_type": "code",
   "execution_count": null,
   "metadata": {
    "collapsed": true
   },
   "outputs": [],
   "source": []
  }
 ],
 "metadata": {
  "kernelspec": {
   "display_name": "Nim",
   "language": "nim",
   "name": "nim_spec"
  },
  "language_info": {
   "file_extension": ".nim",
   "mimetype": "text/plain",
   "name": "nim"
  }
 },
 "nbformat": 4,
 "nbformat_minor": 0
}
